{
  "nbformat": 4,
  "nbformat_minor": 0,
  "metadata": {
    "colab": {
      "name": "XOR.ipynb",
      "provenance": [],
      "collapsed_sections": [],
      "authorship_tag": "ABX9TyOLrMFoWYp+8ihAoPcvBj7o",
      "include_colab_link": true
    },
    "kernelspec": {
      "name": "python3",
      "display_name": "Python 3"
    }
  },
  "cells": [
    {
      "cell_type": "markdown",
      "metadata": {
        "id": "view-in-github",
        "colab_type": "text"
      },
      "source": [
        "<a href=\"https://colab.research.google.com/gist/priyanshu-b20/90008749e287785025276fc93612e476/xor.ipynb\" target=\"_parent\"><img src=\"https://colab.research.google.com/assets/colab-badge.svg\" alt=\"Open In Colab\"/></a>"
      ]
    },
    {
      "cell_type": "code",
      "metadata": {
        "id": "rHr1uIlKDtCo",
        "colab_type": "code",
        "colab": {}
      },
      "source": [
        "import numpy as np"
      ],
      "execution_count": 0,
      "outputs": []
    },
    {
      "cell_type": "code",
      "metadata": {
        "id": "EbYjQX56DmSQ",
        "colab_type": "code",
        "colab": {}
      },
      "source": [
        "x = np.array([[0, 0], [0, 1], [1, 0], [1, 1]])\n",
        "y = np.array([[0], [1], [1], [0]])"
      ],
      "execution_count": 0,
      "outputs": []
    },
    {
      "cell_type": "code",
      "metadata": {
        "id": "PVKWBS216I8D",
        "colab_type": "code",
        "colab": {}
      },
      "source": [
        "def sigmoid(x):\n",
        "    return 1/(1 + np.exp(-x))"
      ],
      "execution_count": 0,
      "outputs": []
    },
    {
      "cell_type": "code",
      "metadata": {
        "id": "UfCPO4OcDdqj",
        "colab_type": "code",
        "colab": {}
      },
      "source": [
        "def sigmoid_p(x):\n",
        "    return (x)*(1-(x))"
      ],
      "execution_count": 0,
      "outputs": []
    },
    {
      "cell_type": "code",
      "metadata": {
        "id": "ChOzMv4v77o2",
        "colab_type": "code",
        "colab": {}
      },
      "source": [
        "w1 = np.random.randn(2, 2)\n",
        "b1 = np.random.randn(1, 2)\n",
        "w2 = np.random.randn(2, 1)\n",
        "b2 = np.random.randn(1, 1)"
      ],
      "execution_count": 0,
      "outputs": []
    },
    {
      "cell_type": "code",
      "metadata": {
        "id": "2MNGvSxaCcwo",
        "colab_type": "code",
        "colab": {
          "base_uri": "https://localhost:8080/",
          "height": 118
        },
        "outputId": "8f463233-64c7-4b42-ce6a-85b66a91b0b7"
      },
      "source": [
        "w1,b1,w2,b2"
      ],
      "execution_count": 162,
      "outputs": [
        {
          "output_type": "execute_result",
          "data": {
            "text/plain": [
              "(array([[-0.38508228, -0.676922  ],\n",
              "        [ 0.61167629,  1.03099952]]),\n",
              " array([[ 0.93128012, -0.83921752]]),\n",
              " array([[-0.30921238],\n",
              "        [ 0.33126343]]),\n",
              " array([[0.97554513]]))"
            ]
          },
          "metadata": {
            "tags": []
          },
          "execution_count": 162
        }
      ]
    },
    {
      "cell_type": "code",
      "metadata": {
        "id": "5iwOcszl8Fpb",
        "colab_type": "code",
        "colab": {}
      },
      "source": [
        "for r in range(10000):\n",
        "     layer1 = sigmoid(X @ w1 + b1)\n",
        "     ans = sigmoid(layer1 @ w2 + b2)\n",
        "     err = y - ans\n",
        "     \n",
        "     dans = err * sigmoid_p(ans)\n",
        "     errlayere1 = dans @ w2.T\n",
        "     dlayer1 = errlayere1 * sigmoid_p(layer1)\n",
        "     \n",
        "     w2 += layer1.T @ dans * 0.1\n",
        "     b2 += sum(dans) * 0.1\n",
        "     w1 += x.T @ dlayer1 * 0.1\n",
        "     b1 += sum(dlayer1) * 0.1"
      ],
      "execution_count": 0,
      "outputs": []
    },
    {
      "cell_type": "code",
      "metadata": {
        "id": "6-GdPeCu8ua-",
        "colab_type": "code",
        "colab": {
          "base_uri": "https://localhost:8080/",
          "height": 84
        },
        "outputId": "7e18be25-6c25-4780-eadd-dc0e7ee23a57"
      },
      "source": [
        "ans"
      ],
      "execution_count": 177,
      "outputs": [
        {
          "output_type": "execute_result",
          "data": {
            "text/plain": [
              "array([[0.01944075],\n",
              "       [0.97879575],\n",
              "       [0.97879518],\n",
              "       [0.02781577]])"
            ]
          },
          "metadata": {
            "tags": []
          },
          "execution_count": 177
        }
      ]
    },
    {
      "cell_type": "code",
      "metadata": {
        "id": "7QqZIhsuAJK7",
        "colab_type": "code",
        "colab": {
          "base_uri": "https://localhost:8080/",
          "height": 84
        },
        "outputId": "31d038fb-538b-41d0-a9dd-9b1fb362b38f"
      },
      "source": [
        "err"
      ],
      "execution_count": 178,
      "outputs": [
        {
          "output_type": "execute_result",
          "data": {
            "text/plain": [
              "array([[-0.01944075],\n",
              "       [ 0.02120425],\n",
              "       [ 0.02120482],\n",
              "       [-0.02781577]])"
            ]
          },
          "metadata": {
            "tags": []
          },
          "execution_count": 178
        }
      ]
    },
    {
      "cell_type": "code",
      "metadata": {
        "id": "i8ZMVaslDA0t",
        "colab_type": "code",
        "colab": {}
      },
      "source": [
        ""
      ],
      "execution_count": 0,
      "outputs": []
    }
  ]
}